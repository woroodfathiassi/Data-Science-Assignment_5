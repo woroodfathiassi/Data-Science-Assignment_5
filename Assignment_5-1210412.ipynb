{
  "cells": [
    {
      "cell_type": "markdown",
      "metadata": {},
      "source": [
        "# Hi there 👋\n",
        "---\n",
        "## This is my Fifth assignment in <span style=\"color: blue\"> COMP4381</span>.\n",
        "## My name is :<span style=\"color: #F41F4E\"> Worood Assi.</span>\n",
        "## & my ID is:<span style=\"color: #F41F4E\"> 1210412.</span>\n",
        "***"
      ]
    },
    {
      "cell_type": "markdown",
      "metadata": {},
      "source": [
        "<span style=\"font-weight: bold\"> **->** In this assignment I analysed the Online Retail II UCI dataset.</span>\n"
      ]
    },
    {
      "cell_type": "markdown",
      "metadata": {},
      "source": [
        "## About Dataset:\n",
        "### Context\n",
        "    This Online Retail II data set contains all the transactions occurring for a UK-based and registered, non-store online retail between 01/12/2009 and 09/12/2011.The company mainly sells unique all-occasion gift-ware. Many customers of the company are wholesalers.\n",
        "\n",
        "    src=\"https://www.kaggle.com/datasets/mashlyn/online-retail-ii-uci\"\n",
        "\n",
        "### Content\n",
        "    Attribute Information:\n",
        "\n",
        "- InvoiceNo: Invoice number. Nominal. A 6-digit integral number uniquely assigned to each transaction. If this code starts with the letter 'c', it indicates a cancellation.\n",
        "- StockCode: Product (item) code. Nominal. A 5-digit integral number uniquely assigned to each distinct product.\n",
        "- Description: Product (item) name. Nominal.\n",
        "- Quantity: The quantities of each product (item) per transaction. Numeric.\n",
        "- InvoiceDate: Invice date and time. Numeric. The day and time when a transaction was generated.\n",
        "- UnitPrice: Unit price. Numeric. Product price per unit in sterling (Â£).\n",
        "- CustomerID: Customer number. Nominal. A 5-digit integral number uniquely assigned to each customer.\n",
        "- Country: Country name. Nominal. The name of the country where a customer resides."
      ]
    },
    {
      "cell_type": "code",
      "execution_count": 1,
      "metadata": {
        "trusted": true
      },
      "outputs": [
        {
          "data": {
            "text/html": [
              "<div>\n",
              "<style scoped>\n",
              "    .dataframe tbody tr th:only-of-type {\n",
              "        vertical-align: middle;\n",
              "    }\n",
              "\n",
              "    .dataframe tbody tr th {\n",
              "        vertical-align: top;\n",
              "    }\n",
              "\n",
              "    .dataframe thead th {\n",
              "        text-align: right;\n",
              "    }\n",
              "</style>\n",
              "<table border=\"1\" class=\"dataframe\">\n",
              "  <thead>\n",
              "    <tr style=\"text-align: right;\">\n",
              "      <th></th>\n",
              "      <th>Invoice</th>\n",
              "      <th>StockCode</th>\n",
              "      <th>Description</th>\n",
              "      <th>Quantity</th>\n",
              "      <th>InvoiceDate</th>\n",
              "      <th>Price</th>\n",
              "      <th>Customer ID</th>\n",
              "      <th>Country</th>\n",
              "    </tr>\n",
              "  </thead>\n",
              "  <tbody>\n",
              "    <tr>\n",
              "      <th>0</th>\n",
              "      <td>489434</td>\n",
              "      <td>85048</td>\n",
              "      <td>15CM CHRISTMAS GLASS BALL 20 LIGHTS</td>\n",
              "      <td>12</td>\n",
              "      <td>2009-12-01 07:45:00</td>\n",
              "      <td>6.95</td>\n",
              "      <td>13085.0</td>\n",
              "      <td>United Kingdom</td>\n",
              "    </tr>\n",
              "    <tr>\n",
              "      <th>1</th>\n",
              "      <td>489434</td>\n",
              "      <td>79323P</td>\n",
              "      <td>PINK CHERRY LIGHTS</td>\n",
              "      <td>12</td>\n",
              "      <td>2009-12-01 07:45:00</td>\n",
              "      <td>6.75</td>\n",
              "      <td>13085.0</td>\n",
              "      <td>United Kingdom</td>\n",
              "    </tr>\n",
              "    <tr>\n",
              "      <th>2</th>\n",
              "      <td>489434</td>\n",
              "      <td>79323W</td>\n",
              "      <td>WHITE CHERRY LIGHTS</td>\n",
              "      <td>12</td>\n",
              "      <td>2009-12-01 07:45:00</td>\n",
              "      <td>6.75</td>\n",
              "      <td>13085.0</td>\n",
              "      <td>United Kingdom</td>\n",
              "    </tr>\n",
              "    <tr>\n",
              "      <th>3</th>\n",
              "      <td>489434</td>\n",
              "      <td>22041</td>\n",
              "      <td>RECORD FRAME 7\" SINGLE SIZE</td>\n",
              "      <td>48</td>\n",
              "      <td>2009-12-01 07:45:00</td>\n",
              "      <td>2.10</td>\n",
              "      <td>13085.0</td>\n",
              "      <td>United Kingdom</td>\n",
              "    </tr>\n",
              "    <tr>\n",
              "      <th>4</th>\n",
              "      <td>489434</td>\n",
              "      <td>21232</td>\n",
              "      <td>STRAWBERRY CERAMIC TRINKET BOX</td>\n",
              "      <td>24</td>\n",
              "      <td>2009-12-01 07:45:00</td>\n",
              "      <td>1.25</td>\n",
              "      <td>13085.0</td>\n",
              "      <td>United Kingdom</td>\n",
              "    </tr>\n",
              "    <tr>\n",
              "      <th>...</th>\n",
              "      <td>...</td>\n",
              "      <td>...</td>\n",
              "      <td>...</td>\n",
              "      <td>...</td>\n",
              "      <td>...</td>\n",
              "      <td>...</td>\n",
              "      <td>...</td>\n",
              "      <td>...</td>\n",
              "    </tr>\n",
              "    <tr>\n",
              "      <th>1067366</th>\n",
              "      <td>581587</td>\n",
              "      <td>22899</td>\n",
              "      <td>CHILDREN'S APRON DOLLY GIRL</td>\n",
              "      <td>6</td>\n",
              "      <td>2011-12-09 12:50:00</td>\n",
              "      <td>2.10</td>\n",
              "      <td>12680.0</td>\n",
              "      <td>France</td>\n",
              "    </tr>\n",
              "    <tr>\n",
              "      <th>1067367</th>\n",
              "      <td>581587</td>\n",
              "      <td>23254</td>\n",
              "      <td>CHILDRENS CUTLERY DOLLY GIRL</td>\n",
              "      <td>4</td>\n",
              "      <td>2011-12-09 12:50:00</td>\n",
              "      <td>4.15</td>\n",
              "      <td>12680.0</td>\n",
              "      <td>France</td>\n",
              "    </tr>\n",
              "    <tr>\n",
              "      <th>1067368</th>\n",
              "      <td>581587</td>\n",
              "      <td>23255</td>\n",
              "      <td>CHILDRENS CUTLERY CIRCUS PARADE</td>\n",
              "      <td>4</td>\n",
              "      <td>2011-12-09 12:50:00</td>\n",
              "      <td>4.15</td>\n",
              "      <td>12680.0</td>\n",
              "      <td>France</td>\n",
              "    </tr>\n",
              "    <tr>\n",
              "      <th>1067369</th>\n",
              "      <td>581587</td>\n",
              "      <td>22138</td>\n",
              "      <td>BAKING SET 9 PIECE RETROSPOT</td>\n",
              "      <td>3</td>\n",
              "      <td>2011-12-09 12:50:00</td>\n",
              "      <td>4.95</td>\n",
              "      <td>12680.0</td>\n",
              "      <td>France</td>\n",
              "    </tr>\n",
              "    <tr>\n",
              "      <th>1067370</th>\n",
              "      <td>581587</td>\n",
              "      <td>POST</td>\n",
              "      <td>POSTAGE</td>\n",
              "      <td>1</td>\n",
              "      <td>2011-12-09 12:50:00</td>\n",
              "      <td>18.00</td>\n",
              "      <td>12680.0</td>\n",
              "      <td>France</td>\n",
              "    </tr>\n",
              "  </tbody>\n",
              "</table>\n",
              "<p>1067371 rows × 8 columns</p>\n",
              "</div>"
            ],
            "text/plain": [
              "        Invoice StockCode                          Description  Quantity  \\\n",
              "0        489434     85048  15CM CHRISTMAS GLASS BALL 20 LIGHTS        12   \n",
              "1        489434    79323P                   PINK CHERRY LIGHTS        12   \n",
              "2        489434    79323W                  WHITE CHERRY LIGHTS        12   \n",
              "3        489434     22041         RECORD FRAME 7\" SINGLE SIZE         48   \n",
              "4        489434     21232       STRAWBERRY CERAMIC TRINKET BOX        24   \n",
              "...         ...       ...                                  ...       ...   \n",
              "1067366  581587     22899         CHILDREN'S APRON DOLLY GIRL          6   \n",
              "1067367  581587     23254        CHILDRENS CUTLERY DOLLY GIRL          4   \n",
              "1067368  581587     23255      CHILDRENS CUTLERY CIRCUS PARADE         4   \n",
              "1067369  581587     22138        BAKING SET 9 PIECE RETROSPOT          3   \n",
              "1067370  581587      POST                              POSTAGE         1   \n",
              "\n",
              "                 InvoiceDate  Price  Customer ID         Country  \n",
              "0        2009-12-01 07:45:00   6.95      13085.0  United Kingdom  \n",
              "1        2009-12-01 07:45:00   6.75      13085.0  United Kingdom  \n",
              "2        2009-12-01 07:45:00   6.75      13085.0  United Kingdom  \n",
              "3        2009-12-01 07:45:00   2.10      13085.0  United Kingdom  \n",
              "4        2009-12-01 07:45:00   1.25      13085.0  United Kingdom  \n",
              "...                      ...    ...          ...             ...  \n",
              "1067366  2011-12-09 12:50:00   2.10      12680.0          France  \n",
              "1067367  2011-12-09 12:50:00   4.15      12680.0          France  \n",
              "1067368  2011-12-09 12:50:00   4.15      12680.0          France  \n",
              "1067369  2011-12-09 12:50:00   4.95      12680.0          France  \n",
              "1067370  2011-12-09 12:50:00  18.00      12680.0          France  \n",
              "\n",
              "[1067371 rows x 8 columns]"
            ]
          },
          "execution_count": 1,
          "metadata": {},
          "output_type": "execute_result"
        }
      ],
      "source": [
        "import pandas as pd\n",
        "# load the dataset\n",
        "df = pd.read_csv(\"online_retail_II.csv\")\n",
        "df"
      ]
    },
    {
      "cell_type": "markdown",
      "metadata": {},
      "source": [
        "### Randomly select 200k row from the dataset using <span style=\"color:red\">1210412</span> as seed."
      ]
    },
    {
      "cell_type": "code",
      "execution_count": 2,
      "metadata": {
        "trusted": true
      },
      "outputs": [
        {
          "data": {
            "text/html": [
              "<div>\n",
              "<style scoped>\n",
              "    .dataframe tbody tr th:only-of-type {\n",
              "        vertical-align: middle;\n",
              "    }\n",
              "\n",
              "    .dataframe tbody tr th {\n",
              "        vertical-align: top;\n",
              "    }\n",
              "\n",
              "    .dataframe thead th {\n",
              "        text-align: right;\n",
              "    }\n",
              "</style>\n",
              "<table border=\"1\" class=\"dataframe\">\n",
              "  <thead>\n",
              "    <tr style=\"text-align: right;\">\n",
              "      <th></th>\n",
              "      <th>Invoice</th>\n",
              "      <th>StockCode</th>\n",
              "      <th>Description</th>\n",
              "      <th>Quantity</th>\n",
              "      <th>InvoiceDate</th>\n",
              "      <th>Price</th>\n",
              "      <th>Customer ID</th>\n",
              "      <th>Country</th>\n",
              "    </tr>\n",
              "  </thead>\n",
              "  <tbody>\n",
              "    <tr>\n",
              "      <th>280979</th>\n",
              "      <td>516749</td>\n",
              "      <td>21908</td>\n",
              "      <td>CHOCOLATE THIS WAY METAL SIGN</td>\n",
              "      <td>12</td>\n",
              "      <td>2010-07-22 15:33:00</td>\n",
              "      <td>2.10</td>\n",
              "      <td>14099.0</td>\n",
              "      <td>United Kingdom</td>\n",
              "    </tr>\n",
              "    <tr>\n",
              "      <th>239243</th>\n",
              "      <td>512539</td>\n",
              "      <td>22613</td>\n",
              "      <td>PACK OF 20 SPACEBOY NAPKINS</td>\n",
              "      <td>2</td>\n",
              "      <td>2010-06-16 12:48:00</td>\n",
              "      <td>0.85</td>\n",
              "      <td>13567.0</td>\n",
              "      <td>United Kingdom</td>\n",
              "    </tr>\n",
              "    <tr>\n",
              "      <th>868725</th>\n",
              "      <td>566949</td>\n",
              "      <td>84997D</td>\n",
              "      <td>CHILDRENS CUTLERY POLKADOT PINK</td>\n",
              "      <td>1</td>\n",
              "      <td>2011-09-15 16:32:00</td>\n",
              "      <td>8.29</td>\n",
              "      <td>NaN</td>\n",
              "      <td>United Kingdom</td>\n",
              "    </tr>\n",
              "    <tr>\n",
              "      <th>43132</th>\n",
              "      <td>493074</td>\n",
              "      <td>21255</td>\n",
              "      <td>FRENCH BOTTLE , LAVENDER</td>\n",
              "      <td>1</td>\n",
              "      <td>2009-12-22 09:45:00</td>\n",
              "      <td>3.43</td>\n",
              "      <td>NaN</td>\n",
              "      <td>United Kingdom</td>\n",
              "    </tr>\n",
              "    <tr>\n",
              "      <th>681787</th>\n",
              "      <td>550131</td>\n",
              "      <td>22982</td>\n",
              "      <td>PANTRY PASTRY BRUSH</td>\n",
              "      <td>12</td>\n",
              "      <td>2011-04-14 13:27:00</td>\n",
              "      <td>1.25</td>\n",
              "      <td>15935.0</td>\n",
              "      <td>United Kingdom</td>\n",
              "    </tr>\n",
              "    <tr>\n",
              "      <th>...</th>\n",
              "      <td>...</td>\n",
              "      <td>...</td>\n",
              "      <td>...</td>\n",
              "      <td>...</td>\n",
              "      <td>...</td>\n",
              "      <td>...</td>\n",
              "      <td>...</td>\n",
              "      <td>...</td>\n",
              "    </tr>\n",
              "    <tr>\n",
              "      <th>422521</th>\n",
              "      <td>529813</td>\n",
              "      <td>22766</td>\n",
              "      <td>PHOTO FRAME CORNICE</td>\n",
              "      <td>4</td>\n",
              "      <td>2010-10-31 11:09:00</td>\n",
              "      <td>2.95</td>\n",
              "      <td>13888.0</td>\n",
              "      <td>United Kingdom</td>\n",
              "    </tr>\n",
              "    <tr>\n",
              "      <th>879154</th>\n",
              "      <td>567819</td>\n",
              "      <td>22153</td>\n",
              "      <td>ANGEL DECORATION STARS ON DRESS</td>\n",
              "      <td>48</td>\n",
              "      <td>2011-09-22 12:42:00</td>\n",
              "      <td>0.42</td>\n",
              "      <td>14004.0</td>\n",
              "      <td>United Kingdom</td>\n",
              "    </tr>\n",
              "    <tr>\n",
              "      <th>968665</th>\n",
              "      <td>574694</td>\n",
              "      <td>22945</td>\n",
              "      <td>CHRISTMAS METAL TAGS ASSORTED</td>\n",
              "      <td>12</td>\n",
              "      <td>2011-11-06 13:36:00</td>\n",
              "      <td>0.85</td>\n",
              "      <td>12381.0</td>\n",
              "      <td>Norway</td>\n",
              "    </tr>\n",
              "    <tr>\n",
              "      <th>383106</th>\n",
              "      <td>526217</td>\n",
              "      <td>22110</td>\n",
              "      <td>BIRD HOUSE HOT WATER BOTTLE</td>\n",
              "      <td>1</td>\n",
              "      <td>2010-10-10 14:30:00</td>\n",
              "      <td>2.55</td>\n",
              "      <td>14390.0</td>\n",
              "      <td>United Kingdom</td>\n",
              "    </tr>\n",
              "    <tr>\n",
              "      <th>504134</th>\n",
              "      <td>536530</td>\n",
              "      <td>22120</td>\n",
              "      <td>WELCOME  WOODEN BLOCK LETTERS</td>\n",
              "      <td>1</td>\n",
              "      <td>2010-12-01 13:21:00</td>\n",
              "      <td>9.95</td>\n",
              "      <td>17905.0</td>\n",
              "      <td>United Kingdom</td>\n",
              "    </tr>\n",
              "  </tbody>\n",
              "</table>\n",
              "<p>200000 rows × 8 columns</p>\n",
              "</div>"
            ],
            "text/plain": [
              "       Invoice StockCode                      Description  Quantity  \\\n",
              "280979  516749     21908    CHOCOLATE THIS WAY METAL SIGN        12   \n",
              "239243  512539     22613      PACK OF 20 SPACEBOY NAPKINS         2   \n",
              "868725  566949    84997D  CHILDRENS CUTLERY POLKADOT PINK         1   \n",
              "43132   493074     21255         FRENCH BOTTLE , LAVENDER         1   \n",
              "681787  550131     22982              PANTRY PASTRY BRUSH        12   \n",
              "...        ...       ...                              ...       ...   \n",
              "422521  529813     22766              PHOTO FRAME CORNICE         4   \n",
              "879154  567819     22153  ANGEL DECORATION STARS ON DRESS        48   \n",
              "968665  574694     22945   CHRISTMAS METAL TAGS ASSORTED         12   \n",
              "383106  526217     22110      BIRD HOUSE HOT WATER BOTTLE         1   \n",
              "504134  536530     22120    WELCOME  WOODEN BLOCK LETTERS         1   \n",
              "\n",
              "                InvoiceDate  Price  Customer ID         Country  \n",
              "280979  2010-07-22 15:33:00   2.10      14099.0  United Kingdom  \n",
              "239243  2010-06-16 12:48:00   0.85      13567.0  United Kingdom  \n",
              "868725  2011-09-15 16:32:00   8.29          NaN  United Kingdom  \n",
              "43132   2009-12-22 09:45:00   3.43          NaN  United Kingdom  \n",
              "681787  2011-04-14 13:27:00   1.25      15935.0  United Kingdom  \n",
              "...                     ...    ...          ...             ...  \n",
              "422521  2010-10-31 11:09:00   2.95      13888.0  United Kingdom  \n",
              "879154  2011-09-22 12:42:00   0.42      14004.0  United Kingdom  \n",
              "968665  2011-11-06 13:36:00   0.85      12381.0          Norway  \n",
              "383106  2010-10-10 14:30:00   2.55      14390.0  United Kingdom  \n",
              "504134  2010-12-01 13:21:00   9.95      17905.0  United Kingdom  \n",
              "\n",
              "[200000 rows x 8 columns]"
            ]
          },
          "execution_count": 2,
          "metadata": {},
          "output_type": "execute_result"
        }
      ],
      "source": [
        "import numpy as np\n",
        "np.random.seed(1210412)\n",
        "data = df.sample(n=200000)\n",
        "data"
      ]
    },
    {
      "cell_type": "code",
      "execution_count": 3,
      "metadata": {
        "trusted": true
      },
      "outputs": [
        {
          "name": "stdout",
          "output_type": "stream",
          "text": [
            "<class 'pandas.core.frame.DataFrame'>\n",
            "Int64Index: 200000 entries, 280979 to 504134\n",
            "Data columns (total 8 columns):\n",
            " #   Column       Non-Null Count   Dtype  \n",
            "---  ------       --------------   -----  \n",
            " 0   Invoice      200000 non-null  object \n",
            " 1   StockCode    200000 non-null  object \n",
            " 2   Description  199161 non-null  object \n",
            " 3   Quantity     200000 non-null  int64  \n",
            " 4   InvoiceDate  200000 non-null  object \n",
            " 5   Price        200000 non-null  float64\n",
            " 6   Customer ID  200000 non-null  object \n",
            " 7   Country      200000 non-null  object \n",
            "dtypes: float64(1), int64(1), object(6)\n",
            "memory usage: 9.2+ MB\n"
          ]
        }
      ],
      "source": [
        "data['Customer ID'] = data['Customer ID'].astype(str)\n",
        "data.info()"
      ]
    },
    {
      "cell_type": "code",
      "execution_count": 4,
      "metadata": {
        "trusted": true
      },
      "outputs": [
        {
          "data": {
            "text/html": [
              "<div>\n",
              "<style scoped>\n",
              "    .dataframe tbody tr th:only-of-type {\n",
              "        vertical-align: middle;\n",
              "    }\n",
              "\n",
              "    .dataframe tbody tr th {\n",
              "        vertical-align: top;\n",
              "    }\n",
              "\n",
              "    .dataframe thead th {\n",
              "        text-align: right;\n",
              "    }\n",
              "</style>\n",
              "<table border=\"1\" class=\"dataframe\">\n",
              "  <thead>\n",
              "    <tr style=\"text-align: right;\">\n",
              "      <th></th>\n",
              "      <th>Quantity</th>\n",
              "      <th>Price</th>\n",
              "    </tr>\n",
              "  </thead>\n",
              "  <tbody>\n",
              "    <tr>\n",
              "      <th>count</th>\n",
              "      <td>200000.000000</td>\n",
              "      <td>200000.000000</td>\n",
              "    </tr>\n",
              "    <tr>\n",
              "      <th>mean</th>\n",
              "      <td>9.457865</td>\n",
              "      <td>4.666213</td>\n",
              "    </tr>\n",
              "    <tr>\n",
              "      <th>std</th>\n",
              "      <td>70.899664</td>\n",
              "      <td>79.734983</td>\n",
              "    </tr>\n",
              "    <tr>\n",
              "      <th>min</th>\n",
              "      <td>-9000.000000</td>\n",
              "      <td>0.000000</td>\n",
              "    </tr>\n",
              "    <tr>\n",
              "      <th>25%</th>\n",
              "      <td>1.000000</td>\n",
              "      <td>1.250000</td>\n",
              "    </tr>\n",
              "    <tr>\n",
              "      <th>50%</th>\n",
              "      <td>3.000000</td>\n",
              "      <td>2.100000</td>\n",
              "    </tr>\n",
              "    <tr>\n",
              "      <th>75%</th>\n",
              "      <td>10.000000</td>\n",
              "      <td>4.150000</td>\n",
              "    </tr>\n",
              "    <tr>\n",
              "      <th>max</th>\n",
              "      <td>6768.000000</td>\n",
              "      <td>17836.460000</td>\n",
              "    </tr>\n",
              "  </tbody>\n",
              "</table>\n",
              "</div>"
            ],
            "text/plain": [
              "            Quantity          Price\n",
              "count  200000.000000  200000.000000\n",
              "mean        9.457865       4.666213\n",
              "std        70.899664      79.734983\n",
              "min     -9000.000000       0.000000\n",
              "25%         1.000000       1.250000\n",
              "50%         3.000000       2.100000\n",
              "75%        10.000000       4.150000\n",
              "max      6768.000000   17836.460000"
            ]
          },
          "execution_count": 4,
          "metadata": {},
          "output_type": "execute_result"
        }
      ],
      "source": [
        "data.describe()"
      ]
    },
    {
      "cell_type": "markdown",
      "metadata": {},
      "source": [
        "**Then, I used appropriate grouping and answered the following questions:**"
      ]
    },
    {
      "cell_type": "markdown",
      "metadata": {},
      "source": [
        "## <span style=\"color: rgba(239, 77, 47, 1)\">Q1) Determine the total sales per invoice and identify the top 5 invoices.</span>"
      ]
    },
    {
      "cell_type": "markdown",
      "metadata": {},
      "source": [
        "* First, I found the total sales for each row by multiplying the quantity and the price"
      ]
    },
    {
      "cell_type": "code",
      "execution_count": 5,
      "metadata": {
        "trusted": true
      },
      "outputs": [
        {
          "data": {
            "text/html": [
              "<div>\n",
              "<style scoped>\n",
              "    .dataframe tbody tr th:only-of-type {\n",
              "        vertical-align: middle;\n",
              "    }\n",
              "\n",
              "    .dataframe tbody tr th {\n",
              "        vertical-align: top;\n",
              "    }\n",
              "\n",
              "    .dataframe thead th {\n",
              "        text-align: right;\n",
              "    }\n",
              "</style>\n",
              "<table border=\"1\" class=\"dataframe\">\n",
              "  <thead>\n",
              "    <tr style=\"text-align: right;\">\n",
              "      <th></th>\n",
              "      <th>Invoice</th>\n",
              "      <th>StockCode</th>\n",
              "      <th>Description</th>\n",
              "      <th>Quantity</th>\n",
              "      <th>InvoiceDate</th>\n",
              "      <th>Price</th>\n",
              "      <th>Customer ID</th>\n",
              "      <th>Country</th>\n",
              "      <th>Total Sales</th>\n",
              "    </tr>\n",
              "  </thead>\n",
              "  <tbody>\n",
              "    <tr>\n",
              "      <th>280979</th>\n",
              "      <td>516749</td>\n",
              "      <td>21908</td>\n",
              "      <td>CHOCOLATE THIS WAY METAL SIGN</td>\n",
              "      <td>12</td>\n",
              "      <td>2010-07-22 15:33:00</td>\n",
              "      <td>2.10</td>\n",
              "      <td>14099.0</td>\n",
              "      <td>United Kingdom</td>\n",
              "      <td>25.20</td>\n",
              "    </tr>\n",
              "    <tr>\n",
              "      <th>239243</th>\n",
              "      <td>512539</td>\n",
              "      <td>22613</td>\n",
              "      <td>PACK OF 20 SPACEBOY NAPKINS</td>\n",
              "      <td>2</td>\n",
              "      <td>2010-06-16 12:48:00</td>\n",
              "      <td>0.85</td>\n",
              "      <td>13567.0</td>\n",
              "      <td>United Kingdom</td>\n",
              "      <td>1.70</td>\n",
              "    </tr>\n",
              "    <tr>\n",
              "      <th>868725</th>\n",
              "      <td>566949</td>\n",
              "      <td>84997D</td>\n",
              "      <td>CHILDRENS CUTLERY POLKADOT PINK</td>\n",
              "      <td>1</td>\n",
              "      <td>2011-09-15 16:32:00</td>\n",
              "      <td>8.29</td>\n",
              "      <td>nan</td>\n",
              "      <td>United Kingdom</td>\n",
              "      <td>8.29</td>\n",
              "    </tr>\n",
              "    <tr>\n",
              "      <th>43132</th>\n",
              "      <td>493074</td>\n",
              "      <td>21255</td>\n",
              "      <td>FRENCH BOTTLE , LAVENDER</td>\n",
              "      <td>1</td>\n",
              "      <td>2009-12-22 09:45:00</td>\n",
              "      <td>3.43</td>\n",
              "      <td>nan</td>\n",
              "      <td>United Kingdom</td>\n",
              "      <td>3.43</td>\n",
              "    </tr>\n",
              "    <tr>\n",
              "      <th>681787</th>\n",
              "      <td>550131</td>\n",
              "      <td>22982</td>\n",
              "      <td>PANTRY PASTRY BRUSH</td>\n",
              "      <td>12</td>\n",
              "      <td>2011-04-14 13:27:00</td>\n",
              "      <td>1.25</td>\n",
              "      <td>15935.0</td>\n",
              "      <td>United Kingdom</td>\n",
              "      <td>15.00</td>\n",
              "    </tr>\n",
              "    <tr>\n",
              "      <th>...</th>\n",
              "      <td>...</td>\n",
              "      <td>...</td>\n",
              "      <td>...</td>\n",
              "      <td>...</td>\n",
              "      <td>...</td>\n",
              "      <td>...</td>\n",
              "      <td>...</td>\n",
              "      <td>...</td>\n",
              "      <td>...</td>\n",
              "    </tr>\n",
              "    <tr>\n",
              "      <th>422521</th>\n",
              "      <td>529813</td>\n",
              "      <td>22766</td>\n",
              "      <td>PHOTO FRAME CORNICE</td>\n",
              "      <td>4</td>\n",
              "      <td>2010-10-31 11:09:00</td>\n",
              "      <td>2.95</td>\n",
              "      <td>13888.0</td>\n",
              "      <td>United Kingdom</td>\n",
              "      <td>11.80</td>\n",
              "    </tr>\n",
              "    <tr>\n",
              "      <th>879154</th>\n",
              "      <td>567819</td>\n",
              "      <td>22153</td>\n",
              "      <td>ANGEL DECORATION STARS ON DRESS</td>\n",
              "      <td>48</td>\n",
              "      <td>2011-09-22 12:42:00</td>\n",
              "      <td>0.42</td>\n",
              "      <td>14004.0</td>\n",
              "      <td>United Kingdom</td>\n",
              "      <td>20.16</td>\n",
              "    </tr>\n",
              "    <tr>\n",
              "      <th>968665</th>\n",
              "      <td>574694</td>\n",
              "      <td>22945</td>\n",
              "      <td>CHRISTMAS METAL TAGS ASSORTED</td>\n",
              "      <td>12</td>\n",
              "      <td>2011-11-06 13:36:00</td>\n",
              "      <td>0.85</td>\n",
              "      <td>12381.0</td>\n",
              "      <td>Norway</td>\n",
              "      <td>10.20</td>\n",
              "    </tr>\n",
              "    <tr>\n",
              "      <th>383106</th>\n",
              "      <td>526217</td>\n",
              "      <td>22110</td>\n",
              "      <td>BIRD HOUSE HOT WATER BOTTLE</td>\n",
              "      <td>1</td>\n",
              "      <td>2010-10-10 14:30:00</td>\n",
              "      <td>2.55</td>\n",
              "      <td>14390.0</td>\n",
              "      <td>United Kingdom</td>\n",
              "      <td>2.55</td>\n",
              "    </tr>\n",
              "    <tr>\n",
              "      <th>504134</th>\n",
              "      <td>536530</td>\n",
              "      <td>22120</td>\n",
              "      <td>WELCOME  WOODEN BLOCK LETTERS</td>\n",
              "      <td>1</td>\n",
              "      <td>2010-12-01 13:21:00</td>\n",
              "      <td>9.95</td>\n",
              "      <td>17905.0</td>\n",
              "      <td>United Kingdom</td>\n",
              "      <td>9.95</td>\n",
              "    </tr>\n",
              "  </tbody>\n",
              "</table>\n",
              "<p>200000 rows × 9 columns</p>\n",
              "</div>"
            ],
            "text/plain": [
              "       Invoice StockCode                      Description  Quantity  \\\n",
              "280979  516749     21908    CHOCOLATE THIS WAY METAL SIGN        12   \n",
              "239243  512539     22613      PACK OF 20 SPACEBOY NAPKINS         2   \n",
              "868725  566949    84997D  CHILDRENS CUTLERY POLKADOT PINK         1   \n",
              "43132   493074     21255         FRENCH BOTTLE , LAVENDER         1   \n",
              "681787  550131     22982              PANTRY PASTRY BRUSH        12   \n",
              "...        ...       ...                              ...       ...   \n",
              "422521  529813     22766              PHOTO FRAME CORNICE         4   \n",
              "879154  567819     22153  ANGEL DECORATION STARS ON DRESS        48   \n",
              "968665  574694     22945   CHRISTMAS METAL TAGS ASSORTED         12   \n",
              "383106  526217     22110      BIRD HOUSE HOT WATER BOTTLE         1   \n",
              "504134  536530     22120    WELCOME  WOODEN BLOCK LETTERS         1   \n",
              "\n",
              "                InvoiceDate  Price Customer ID         Country  Total Sales  \n",
              "280979  2010-07-22 15:33:00   2.10     14099.0  United Kingdom        25.20  \n",
              "239243  2010-06-16 12:48:00   0.85     13567.0  United Kingdom         1.70  \n",
              "868725  2011-09-15 16:32:00   8.29         nan  United Kingdom         8.29  \n",
              "43132   2009-12-22 09:45:00   3.43         nan  United Kingdom         3.43  \n",
              "681787  2011-04-14 13:27:00   1.25     15935.0  United Kingdom        15.00  \n",
              "...                     ...    ...         ...             ...          ...  \n",
              "422521  2010-10-31 11:09:00   2.95     13888.0  United Kingdom        11.80  \n",
              "879154  2011-09-22 12:42:00   0.42     14004.0  United Kingdom        20.16  \n",
              "968665  2011-11-06 13:36:00   0.85     12381.0          Norway        10.20  \n",
              "383106  2010-10-10 14:30:00   2.55     14390.0  United Kingdom         2.55  \n",
              "504134  2010-12-01 13:21:00   9.95     17905.0  United Kingdom         9.95  \n",
              "\n",
              "[200000 rows x 9 columns]"
            ]
          },
          "execution_count": 5,
          "metadata": {},
          "output_type": "execute_result"
        }
      ],
      "source": [
        "data['Total Sales'] = data['Quantity'] * df['Price']\n",
        "data"
      ]
    },
    {
      "cell_type": "markdown",
      "metadata": {},
      "source": [
        "* Then I divided the data according to each invoice using Groupby and calculated the total sales for each invoice "
      ]
    },
    {
      "cell_type": "code",
      "execution_count": 6,
      "metadata": {
        "trusted": true
      },
      "outputs": [
        {
          "name": "stdout",
          "output_type": "stream",
          "text": [
            "the top 5:  Invoice\n",
            "576365    15757.86\n",
            "524181    10094.80\n",
            "574941     9973.30\n",
            "572209     9855.00\n",
            "537659     9565.56\n",
            "Name: Total Sales, dtype: float64\n"
          ]
        }
      ],
      "source": [
        "# Group the data by invoice and calculate the sum of total sales per invoice\n",
        "top5 = data.groupby('Invoice')['Total Sales'].sum()\n",
        "print('the top 5: ',top5.nlargest(5))"
      ]
    },
    {
      "cell_type": "markdown",
      "metadata": {},
      "source": [
        "## <span style=\"color: rgba(239, 77, 47, 1)\">Q2) Compute the total sales per customer and list the top 5 customers.</span>"
      ]
    },
    {
      "cell_type": "markdown",
      "metadata": {},
      "source": [
        "* Based on the Total Sales column in the previous question:\n",
        "  \n",
        "    I divided the data according to each Customer using Groupby and calculated the total sales for each one "
      ]
    },
    {
      "cell_type": "code",
      "execution_count": 7,
      "metadata": {
        "trusted": true
      },
      "outputs": [
        {
          "name": "stdout",
          "output_type": "stream",
          "text": [
            "the top 5:  Customer ID\n",
            "nan        530036.06\n",
            "18102.0    127872.79\n",
            "14646.0     94122.59\n",
            "14156.0     52027.56\n",
            "17450.0     50206.34\n",
            "Name: Total Sales, dtype: float64\n"
          ]
        }
      ],
      "source": [
        "# Group the data by customer id and calculate the sum of total sales per invoice\n",
        "top5 = data.groupby('Customer ID')['Total Sales'].sum()\n",
        "print('the top 5: ',top5.nlargest(5))"
      ]
    },
    {
      "cell_type": "markdown",
      "metadata": {},
      "source": [
        "## <span style=\"color: rgba(239, 77, 47, 1)\">Q3) Identify the top 5 selling items during this period.</span>"
      ]
    },
    {
      "cell_type": "markdown",
      "metadata": {},
      "source": [
        "* I divided the data according to each stock code (item) using Groupby and calculated the quantity for each item "
      ]
    },
    {
      "cell_type": "code",
      "execution_count": 8,
      "metadata": {
        "trusted": true
      },
      "outputs": [
        {
          "name": "stdout",
          "output_type": "stream",
          "text": [
            "the top 5:  StockCode\n",
            "21212     21913\n",
            "85099B    18369\n",
            "85123A    17864\n",
            "22197     17609\n",
            "84077     16164\n",
            "Name: Quantity, dtype: int64\n"
          ]
        }
      ],
      "source": [
        "top5 = data.groupby('StockCode')['Quantity'].sum()\n",
        "print('the top 5: ',top5.nlargest(5))"
      ]
    },
    {
      "cell_type": "markdown",
      "metadata": {},
      "source": [
        "## <span style=\"color: rgba(239, 77, 47, 1)\">Q4) Determine the most frequently purchased item pairs by customers and display the top 20 pairs.</span>"
      ]
    },
    {
      "cell_type": "markdown",
      "metadata": {},
      "source": [
        "* To calculate the most pairs of items purchased by customers, I used the following libraries\n",
        "\n",
        "* I grouped the data according to the customer id"
      ]
    },
    {
      "cell_type": "code",
      "execution_count": 10,
      "metadata": {
        "trusted": true
      },
      "outputs": [],
      "source": [
        "import pandas as pd\n",
        "from itertools import combinations\n",
        "from collections import Counter\n",
        "\n",
        "groupData = data.groupby('Customer ID')['StockCode'].unique().reset_index()\n",
        "pairsItems = [] # Create a list to store item pairs"
      ]
    },
    {
      "cell_type": "markdown",
      "metadata": {},
      "source": [
        "* I created pairs of products for each customer using combinations"
      ]
    },
    {
      "cell_type": "code",
      "execution_count": 11,
      "metadata": {
        "trusted": true
      },
      "outputs": [],
      "source": [
        "for items in groupData['StockCode']:\n",
        "    pairsItems.extend(combinations(items, 2)) # 2 is the number of items that are grouped together\n",
        "    "
      ]
    },
    {
      "cell_type": "markdown",
      "metadata": {},
      "source": [
        "* Using Counter function, the number of occurrences for each pair was counted"
      ]
    },
    {
      "cell_type": "code",
      "execution_count": 12,
      "metadata": {
        "trusted": true
      },
      "outputs": [],
      "source": [
        "pair_counts = Counter(pairsItems)"
      ]
    },
    {
      "cell_type": "markdown",
      "metadata": {},
      "source": [
        "* Through this method, the values ​​were arranged in descending order according to the number of occurrences of each pair"
      ]
    },
    {
      "cell_type": "code",
      "execution_count": 14,
      "metadata": {
        "trusted": true
      },
      "outputs": [],
      "source": [
        "sorted_pairs = sorted(pair_counts.items(), key=lambda x: x[1], reverse=True)"
      ]
    },
    {
      "cell_type": "markdown",
      "metadata": {},
      "source": [
        "* **Display the top 20 pairs.**"
      ]
    },
    {
      "cell_type": "code",
      "execution_count": 22,
      "metadata": {
        "trusted": true
      },
      "outputs": [
        {
          "data": {
            "text/plain": [
              "[(('85123A', '21733'), 83),\n",
              " (('85099B', '22386'), 75),\n",
              " (('20725', '20727'), 66),\n",
              " (('20725', '20728'), 66),\n",
              " (('85123A', '22470'), 66),\n",
              " (('85123A', '22469'), 65),\n",
              " (('85099B', '85099F'), 65),\n",
              " (('22423', '85123A'), 64),\n",
              " (('20725', '22383'), 64),\n",
              " (('22383', '20727'), 63),\n",
              " (('85099B', '20725'), 63),\n",
              " (('20725', '20726'), 61),\n",
              " (('22383', '22382'), 59),\n",
              " (('85123A', '22423'), 59),\n",
              " (('20725', '22384'), 59),\n",
              " (('22384', '20725'), 59),\n",
              " (('20725', '22382'), 57),\n",
              " (('21733', '85123A'), 57),\n",
              " (('85123A', '85099B'), 57),\n",
              " (('22383', '20728'), 57)]"
            ]
          },
          "execution_count": 22,
          "metadata": {},
          "output_type": "execute_result"
        }
      ],
      "source": [
        "top_20 = sorted_pairs[:20]\n",
        "top_20"
      ]
    },
    {
      "cell_type": "markdown",
      "metadata": {},
      "source": [
        "## <span style=\"color: rgba(239, 77, 47, 1)\">Q5) The retail store aims to introduce a new promotion targeting items with low sales volume. This promotion entails offering a discounted price for a pair of two different items, with one item being among the top 10 best sellers and the other from the bottom 10 sellers. Customers who purchase these two items together will qualify for the special pricing. Your task is to recommend 10 pairs of items to kickstart this campaign.</span>"
      ]
    },
    {
      "cell_type": "markdown",
      "metadata": {},
      "source": [
        "* Group the data by 'StockCode' and calculate the total quantity sold for each stock code\n",
        "* and sorted them"
      ]
    },
    {
      "cell_type": "code",
      "execution_count": 30,
      "metadata": {
        "trusted": true
      },
      "outputs": [],
      "source": [
        "numOfItemsSales = data.groupby('StockCode')['Quantity'].sum()\n",
        "numOfItemsSalesSorted = numOfItemsSales.sort_values(ascending=False)"
      ]
    },
    {
      "cell_type": "markdown",
      "metadata": {},
      "source": [
        "* We can see the top 10 best sallers and the bottom 10 sellers"
      ]
    },
    {
      "cell_type": "code",
      "execution_count": 36,
      "metadata": {
        "trusted": true
      },
      "outputs": [
        {
          "name": "stdout",
          "output_type": "stream",
          "text": [
            "The top 10 best sellers:  StockCode\n",
            "21212     21913\n",
            "85099B    18369\n",
            "85123A    17864\n",
            "22197     17609\n",
            "84077     16164\n",
            "84879     15879\n",
            "84991     11143\n",
            "21977      8789\n",
            "85099F     8282\n",
            "84755      7803\n",
            "Name: Quantity, dtype: int64\n",
            "The bottom 10 sellers:  StockCode\n",
            "22433    -3732\n",
            "85160A   -4295\n",
            "22755    -4413\n",
            "85110    -4497\n",
            "C3       -4999\n",
            "22752    -5157\n",
            "84016    -6391\n",
            "22126    -6400\n",
            "21088    -6517\n",
            "10120    -8946\n",
            "Name: Quantity, dtype: int64\n"
          ]
        }
      ],
      "source": [
        "top_10 = numOfItemsSalesSorted.head(10)\n",
        "bottom_10 = numOfItemsSalesSorted.tail(10)\n",
        "       \n",
        "print('The top 10 best sellers: ', top_10)\n",
        "print('The bottom 10 sellers: ', bottom_10)"
      ]
    },
    {
      "cell_type": "markdown",
      "metadata": {},
      "source": [
        "* **<span style=\"color: blue\">Offering pairs in which if one of them is purchased, the customer gets a discount</span>**\n"
      ]
    },
    {
      "cell_type": "code",
      "execution_count": 37,
      "metadata": {
        "trusted": true
      },
      "outputs": [
        {
          "name": "stdout",
          "output_type": "stream",
          "text": [
            "('21212', '22433')\n",
            "('85099B', '85160A')\n",
            "('85123A', '22755')\n",
            "('22197', '85110')\n",
            "('84077', 'C3')\n",
            "('84879', '22752')\n",
            "('84991', '84016')\n",
            "('21977', '22126')\n",
            "('85099F', '21088')\n",
            "('84755', '10120')\n"
          ]
        }
      ],
      "source": [
        "for top_item, bottom_item in zip(top_10.index, bottom_10.index):\n",
        "    print((top_item, bottom_item))"
      ]
    }
  ],
  "metadata": {
    "kernelspec": {
      "display_name": "Python (Pyodide)",
      "language": "python",
      "name": "python"
    },
    "language_info": {
      "codemirror_mode": {
        "name": "python",
        "version": 3
      },
      "file_extension": ".py",
      "mimetype": "text/x-python",
      "name": "python",
      "nbconvert_exporter": "python",
      "pygments_lexer": "ipython3",
      "version": "3.8"
    }
  },
  "nbformat": 4,
  "nbformat_minor": 4
}
